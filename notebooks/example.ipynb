{
 "cells": [
  {
   "cell_type": "code",
   "execution_count": 1,
   "metadata": {},
   "outputs": [],
   "source": [
    "import sys\n",
    "sys.path.append('../src/')\n",
    "\n",
    "%load_ext autoreload\n",
    "%autoreload 2"
   ]
  },
  {
   "cell_type": "markdown",
   "metadata": {},
   "source": [
    "# Introduction\n",
    "\n",
    "In this notebook I will show a few examples how you can use the global fishing watch module. The modules are simple wrappers around the [GFW API](https://globalfishingwatch.org/our-apis/documentation#introduction) (version3).\n",
    "\n",
    "This is all work in progress. \n",
    "\n",
    "You will need an API key from Global Fishing Watch and add that as an environmental variable to the repository (for instance in a .env file). Be sure not to publish this key in your code!\n",
    "\n",
    "All code except (geo)pandas is available in the standard Python library.\n"
   ]
  },
  {
   "cell_type": "code",
   "execution_count": 41,
   "metadata": {},
   "outputs": [],
   "source": [
    "import gfw\n",
    "import pandas as pd\n",
    "from pathlib import Path\n",
    "import geopandas as gpd"
   ]
  },
  {
   "cell_type": "code",
   "execution_count": 40,
   "metadata": {},
   "outputs": [],
   "source": [
    "PATH_DATA = Path.cwd().parent.joinpath('data')"
   ]
  },
  {
   "cell_type": "markdown",
   "metadata": {},
   "source": [
    "## Get vessels\n",
    "\n",
    "With a basic search you can query the vessel database (which contains more than 100.000 vessels). You can use MMSI or IMO numbers. The IMO number is persistent during the lifetime of a vessel. The MMSI can change when ownership or flag is changed, so it's semi-persistent. GFW uses MMSI as the principal identifier of a vessel. An IMO number will often result in multiple vessels being returned. An MMSI query can also return multiple vessels, but only because the data is from different sources. Usually you can deduplicate the resulting dataframe or keep the duplicate rows with the most information. "
   ]
  },
  {
   "cell_type": "code",
   "execution_count": 9,
   "metadata": {},
   "outputs": [
    {
     "name": "stdout",
     "output_type": "stream",
     "text": [
      "Found 4 vessels and 1 owners\n"
     ]
    }
   ],
   "source": [
    "# Search with MMSI\n",
    "\n",
    "list_of_vessels = [538005957, 636019558, 511100921]\n",
    "\n",
    "vessels, owners = gfw.get_vessels(query=list_of_vessels,\n",
    "                           filename='vessels', \n",
    "                           field='mmsi')\n",
    "\n",
    "print(f'Found {len(vessels)} vessels and {len(owners)} owners')"
   ]
  },
  {
   "cell_type": "code",
   "execution_count": 6,
   "metadata": {},
   "outputs": [
    {
     "data": {
      "text/html": [
       "<div>\n",
       "<style scoped>\n",
       "    .dataframe tbody tr th:only-of-type {\n",
       "        vertical-align: middle;\n",
       "    }\n",
       "\n",
       "    .dataframe tbody tr th {\n",
       "        vertical-align: top;\n",
       "    }\n",
       "\n",
       "    .dataframe thead th {\n",
       "        text-align: right;\n",
       "    }\n",
       "</style>\n",
       "<table border=\"1\" class=\"dataframe\">\n",
       "  <thead>\n",
       "    <tr style=\"text-align: right;\">\n",
       "      <th></th>\n",
       "      <th>id</th>\n",
       "      <th>sourceCode</th>\n",
       "      <th>ssvid</th>\n",
       "      <th>flag</th>\n",
       "      <th>shipname</th>\n",
       "      <th>nShipname</th>\n",
       "      <th>callsign</th>\n",
       "      <th>imo</th>\n",
       "      <th>latestVesselInfo</th>\n",
       "      <th>transmissionDateFrom</th>\n",
       "      <th>transmissionDateTo</th>\n",
       "      <th>geartypes</th>\n",
       "      <th>lengthM</th>\n",
       "      <th>tonnageGt</th>\n",
       "      <th>vesselInfoReference</th>\n",
       "      <th>messagesCounter</th>\n",
       "      <th>positionsCounter</th>\n",
       "      <th>matchFields</th>\n",
       "    </tr>\n",
       "  </thead>\n",
       "  <tbody>\n",
       "    <tr>\n",
       "      <th>0</th>\n",
       "      <td>509dd770de5aa17235d569f255f24fcd</td>\n",
       "      <td>[IMO]</td>\n",
       "      <td>538005957</td>\n",
       "      <td>MHL</td>\n",
       "      <td>HALITYILDIRIM</td>\n",
       "      <td>HALITYILDIRIM</td>\n",
       "      <td>V7IK9</td>\n",
       "      <td>9257981</td>\n",
       "      <td>True</td>\n",
       "      <td>2014-10-01T12:12:36Z</td>\n",
       "      <td>2023-11-30T23:58:55Z</td>\n",
       "      <td>[CARGO]</td>\n",
       "      <td>NaN</td>\n",
       "      <td>17979.0</td>\n",
       "      <td>4169a368-df89-48c1-b034-273015c678ef</td>\n",
       "      <td>NaN</td>\n",
       "      <td>NaN</td>\n",
       "      <td>NaN</td>\n",
       "    </tr>\n",
       "    <tr>\n",
       "      <th>1</th>\n",
       "      <td>5cf28fc7f-fa71-0102-79c9-eae9e5a7cd11</td>\n",
       "      <td>[AIS]</td>\n",
       "      <td>538005957</td>\n",
       "      <td>MHL</td>\n",
       "      <td>None</td>\n",
       "      <td>None</td>\n",
       "      <td>None</td>\n",
       "      <td>None</td>\n",
       "      <td>NaN</td>\n",
       "      <td>2015-02-21T16:50:15Z</td>\n",
       "      <td>2023-05-08T03:46:34Z</td>\n",
       "      <td>NaN</td>\n",
       "      <td>NaN</td>\n",
       "      <td>NaN</td>\n",
       "      <td>NaN</td>\n",
       "      <td>159.0</td>\n",
       "      <td>52.0</td>\n",
       "      <td>NO_MATCH</td>\n",
       "    </tr>\n",
       "    <tr>\n",
       "      <th>2</th>\n",
       "      <td>db2efbda8-876a-255f-8fec-5dcb34f1ec4a</td>\n",
       "      <td>[AIS]</td>\n",
       "      <td>636019558</td>\n",
       "      <td>LBR</td>\n",
       "      <td>PETREL S</td>\n",
       "      <td>PETRELS</td>\n",
       "      <td>D5VB2</td>\n",
       "      <td>9363883</td>\n",
       "      <td>NaN</td>\n",
       "      <td>2020-02-03T13:31:59Z</td>\n",
       "      <td>2024-02-09T23:59:53Z</td>\n",
       "      <td>NaN</td>\n",
       "      <td>NaN</td>\n",
       "      <td>NaN</td>\n",
       "      <td>NaN</td>\n",
       "      <td>72643681.0</td>\n",
       "      <td>673203.0</td>\n",
       "      <td>NO_MATCH</td>\n",
       "    </tr>\n",
       "    <tr>\n",
       "      <th>3</th>\n",
       "      <td>75549a637-7d39-7a59-b367-ea3167026168</td>\n",
       "      <td>[AIS]</td>\n",
       "      <td>511100921</td>\n",
       "      <td>PLW</td>\n",
       "      <td>HELGA</td>\n",
       "      <td>HELGA</td>\n",
       "      <td>T8A4144</td>\n",
       "      <td>9419151</td>\n",
       "      <td>NaN</td>\n",
       "      <td>2023-02-06T10:29:44Z</td>\n",
       "      <td>2024-02-09T23:58:35Z</td>\n",
       "      <td>NaN</td>\n",
       "      <td>NaN</td>\n",
       "      <td>NaN</td>\n",
       "      <td>NaN</td>\n",
       "      <td>24019961.0</td>\n",
       "      <td>424892.0</td>\n",
       "      <td>NO_MATCH</td>\n",
       "    </tr>\n",
       "  </tbody>\n",
       "</table>\n",
       "</div>"
      ],
      "text/plain": [
       "                                      id sourceCode      ssvid flag  \\\n",
       "0       509dd770de5aa17235d569f255f24fcd      [IMO]  538005957  MHL   \n",
       "1  5cf28fc7f-fa71-0102-79c9-eae9e5a7cd11      [AIS]  538005957  MHL   \n",
       "2  db2efbda8-876a-255f-8fec-5dcb34f1ec4a      [AIS]  636019558  LBR   \n",
       "3  75549a637-7d39-7a59-b367-ea3167026168      [AIS]  511100921  PLW   \n",
       "\n",
       "        shipname      nShipname callsign      imo latestVesselInfo  \\\n",
       "0  HALITYILDIRIM  HALITYILDIRIM    V7IK9  9257981             True   \n",
       "1           None           None     None     None              NaN   \n",
       "2       PETREL S        PETRELS    D5VB2  9363883              NaN   \n",
       "3          HELGA          HELGA  T8A4144  9419151              NaN   \n",
       "\n",
       "   transmissionDateFrom    transmissionDateTo geartypes  lengthM  tonnageGt  \\\n",
       "0  2014-10-01T12:12:36Z  2023-11-30T23:58:55Z   [CARGO]      NaN    17979.0   \n",
       "1  2015-02-21T16:50:15Z  2023-05-08T03:46:34Z       NaN      NaN        NaN   \n",
       "2  2020-02-03T13:31:59Z  2024-02-09T23:59:53Z       NaN      NaN        NaN   \n",
       "3  2023-02-06T10:29:44Z  2024-02-09T23:58:35Z       NaN      NaN        NaN   \n",
       "\n",
       "                    vesselInfoReference  messagesCounter  positionsCounter  \\\n",
       "0  4169a368-df89-48c1-b034-273015c678ef              NaN               NaN   \n",
       "1                                   NaN            159.0              52.0   \n",
       "2                                   NaN       72643681.0          673203.0   \n",
       "3                                   NaN       24019961.0          424892.0   \n",
       "\n",
       "  matchFields  \n",
       "0         NaN  \n",
       "1    NO_MATCH  \n",
       "2    NO_MATCH  \n",
       "3    NO_MATCH  "
      ]
     },
     "execution_count": 6,
     "metadata": {},
     "output_type": "execute_result"
    }
   ],
   "source": [
    "# Let's check out the vessels\n",
    "\n",
    "vessels"
   ]
  },
  {
   "cell_type": "code",
   "execution_count": 7,
   "metadata": {},
   "outputs": [
    {
     "data": {
      "text/html": [
       "<div>\n",
       "<style scoped>\n",
       "    .dataframe tbody tr th:only-of-type {\n",
       "        vertical-align: middle;\n",
       "    }\n",
       "\n",
       "    .dataframe tbody tr th {\n",
       "        vertical-align: top;\n",
       "    }\n",
       "\n",
       "    .dataframe thead th {\n",
       "        text-align: right;\n",
       "    }\n",
       "</style>\n",
       "<table border=\"1\" class=\"dataframe\">\n",
       "  <thead>\n",
       "    <tr style=\"text-align: right;\">\n",
       "      <th></th>\n",
       "      <th>name</th>\n",
       "      <th>flag</th>\n",
       "      <th>ssvid</th>\n",
       "      <th>sourceCode</th>\n",
       "      <th>dateFrom</th>\n",
       "      <th>dateTo</th>\n",
       "    </tr>\n",
       "  </thead>\n",
       "  <tbody>\n",
       "    <tr>\n",
       "      <th>0</th>\n",
       "      <td>YIL SHIPPING</td>\n",
       "      <td>MHL</td>\n",
       "      <td>538005957</td>\n",
       "      <td>[IMO]</td>\n",
       "      <td>2014-10-01T12:12:36Z</td>\n",
       "      <td>2023-11-30T23:58:55Z</td>\n",
       "    </tr>\n",
       "  </tbody>\n",
       "</table>\n",
       "</div>"
      ],
      "text/plain": [
       "           name flag      ssvid sourceCode              dateFrom  \\\n",
       "0  YIL SHIPPING  MHL  538005957      [IMO]  2014-10-01T12:12:36Z   \n",
       "\n",
       "                 dateTo  \n",
       "0  2023-11-30T23:58:55Z  "
      ]
     },
     "execution_count": 7,
     "metadata": {},
     "output_type": "execute_result"
    }
   ],
   "source": [
    "# Let's check out the owners\n",
    "\n",
    "owners"
   ]
  },
  {
   "cell_type": "code",
   "execution_count": null,
   "metadata": {},
   "outputs": [],
   "source": [
    "# Write to file\n",
    "\n",
    "vessels.to_csv(PATH_DATA.joinpath('vessels_found.csv'), index=False)"
   ]
  },
  {
   "cell_type": "markdown",
   "metadata": {},
   "source": [
    "## Get events\n",
    "\n",
    "There are multiple events identified in the GFW database:\n",
    "- loitering: a ship remains stationary outside the coast\n",
    "- encounters: two or more vessels are in close proximity to each other during a certain amount of time\n",
    "- port visits\n",
    "- fishing\n",
    "- ais gaps: moments that the AIS has been turned off, or the signal has dropped\n",
    "\n",
    "You can query the events by vessel id (from the GFW database), so if you don't have this id, you need to use get_events first. Or you can query the events by geometry. That is a bit more tricky, because you know how to work with geospatial data. If you need a geometry, [geojson.io](https://geojson.io/) is a good place to get started. The geometry function does a POST request to Global Fishing Watch. Make sure the coordinate reference system is WGS84 (latitudes, longitudes), also [known as EPSG:4326](https://epsg.io/4326). If you use geojson.io you have the right coordinate reference system."
   ]
  },
  {
   "cell_type": "code",
   "execution_count": 36,
   "metadata": {},
   "outputs": [
    {
     "name": "stdout",
     "output_type": "stream",
     "text": [
      "Found 1 loitering events\n"
     ]
    }
   ],
   "source": [
    "# Get loitering events\n",
    "\n",
    "vessel = vessels.id[1]\n",
    "\n",
    "loitering = gfw.get_events(vessel_id=vessel,\n",
    "                           event_type='loitering',\n",
    "                           filename='loitering',\n",
    "                           start_date='2012-01-01',\n",
    "                           end_date='2024-01-01')\n",
    "\n",
    "print(f'Found {len(loitering)} loitering events')"
   ]
  },
  {
   "cell_type": "code",
   "execution_count": 38,
   "metadata": {},
   "outputs": [
    {
     "name": "stdout",
     "output_type": "stream",
     "text": [
      "Found 180 port visits\n"
     ]
    }
   ],
   "source": [
    "# Get port visits\n",
    "\n",
    "vessel = vessels.id[2]\n",
    "\n",
    "visits = gfw.get_events(vessel_id=vessel,\n",
    "                        event_type='port_visits',\n",
    "                        filename='portvistis',\n",
    "                        start_date='2012-01-01',\n",
    "                        end_date='2024-01-01')\n",
    "\n",
    "print(f'Found {len(visits)} port visits')"
   ]
  },
  {
   "cell_type": "code",
   "execution_count": null,
   "metadata": {},
   "outputs": [],
   "source": [
    "# Or if you want to query multiple vessels\n",
    "\n",
    "# Get unique vessel ids\n",
    "ids = vessels.id.unique()\n",
    "\n",
    "# Create empty list\n",
    "dfs = []\n",
    "\n",
    "for id in ids:\n",
    "    df = gfw.get_events(vessel_id=id,\n",
    "                        event_type='port_visits',\n",
    "                        filename='port_visits',\n",
    "                        start_date='2012-01-01',\n",
    "                        end_date='2024-01-01')\n",
    "\n",
    "    dfs.append(df)\n",
    "\n",
    "df = pd.concat(dfs)\n",
    "df.reset_index(drop=True, inplace=True)\n",
    "len(df)\n",
    "\n"
   ]
  },
  {
   "cell_type": "code",
   "execution_count": null,
   "metadata": {},
   "outputs": [],
   "source": [
    "# Write visits to file\n",
    "\n",
    "visits.to_csv(PATH_DATA.joinpath('port_visits.csv'), index=False)"
   ]
  },
  {
   "cell_type": "markdown",
   "metadata": {},
   "source": [
    "## Get vessels by geometry"
   ]
  },
  {
   "cell_type": "code",
   "execution_count": 52,
   "metadata": {},
   "outputs": [],
   "source": [
    "# Import geometry (often it's easy to work with geopandas/geodataframes)\n",
    "\n",
    "gdf = gpd.read_file(PATH_DATA.joinpath('map.geojson'))\n",
    "\n",
    "# Get geometry in right shape\n",
    "\n",
    "geometry = gdf.geometry.__geo_interface__"
   ]
  },
  {
   "cell_type": "code",
   "execution_count": 54,
   "metadata": {},
   "outputs": [
    {
     "name": "stdout",
     "output_type": "stream",
     "text": [
      "Found 925 loitering events in provided geometry\n"
     ]
    }
   ],
   "source": [
    "loitering = gfw.get_events_by_geometry(start_date='2023-01-01',\n",
    "                                     end_date='2023-04-01',\n",
    "                                     event_type='loitering',\n",
    "                                     filename='loitering_events',\n",
    "                                     geometry=geometry)\n",
    "\n",
    "print(f'Found {len(loitering)} loitering events in provided geometry')"
   ]
  }
 ],
 "metadata": {
  "kernelspec": {
   "display_name": "geo",
   "language": "python",
   "name": "geo"
  },
  "language_info": {
   "codemirror_mode": {
    "name": "ipython",
    "version": 3
   },
   "file_extension": ".py",
   "mimetype": "text/x-python",
   "name": "python",
   "nbconvert_exporter": "python",
   "pygments_lexer": "ipython3",
   "version": "3.10.13"
  }
 },
 "nbformat": 4,
 "nbformat_minor": 2
}
